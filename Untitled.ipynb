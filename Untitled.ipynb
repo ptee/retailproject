{
 "cells": [
  {
   "cell_type": "code",
   "execution_count": 74,
   "metadata": {},
   "outputs": [],
   "source": [
    "from PIL import Image\n",
    "from PIL import ImageFont\n",
    "from PIL import ImageDraw \n",
    "\n",
    "background = Image.open(\"mapbw.png\")\n",
    "foreground1 = Image.open(\"apple.png\")\n",
    "foreground2 = Image.open(\"banana.png\")\n",
    "foreground3 = Image.open(\"condom.png\")\n",
    "\n",
    "#img = Image.open(\"sample_in.jpg\")\n",
    "#draw = ImageDraw.Draw(img)\n",
    "# font = ImageFont.truetype(<font-file>, <font-size>)\n",
    "#font = ImageFont.truetype(\"sans-serif.ttf\", 16)\n",
    "# draw.text((x, y),\"Sample Text\",(r,g,b))\n",
    "fontType = ImageFont.truetype(\"OpenSans-Semibold.ttf\", 40)\n",
    "draw1 = ImageDraw.Draw(background)\n",
    "draw1.text(xy=(1975, 590),text=\"Apple\",fill = (242,20,20),font=fontType)\n",
    "#draw2 = ImageDraw.Draw(background)\n",
    "#draw2.text(xy=(2095, 600),text=\"Banana\",fill = (50,167,255),font=fontType)\n",
    "\n",
    "\n",
    "\n",
    "\n",
    "\n",
    "background.paste(foreground1, (2000, 640), foreground1)\n",
    "background.paste(foreground2, (2100, 650), foreground2)\n",
    "background.paste(foreground3, (1600, 350), foreground3)\n",
    "\n",
    "draw = ImageDraw.Draw(background)\n",
    "draw.text((0, 0),\"Sample Text\",(255,255,255))\n",
    "\n",
    "\n",
    "\n",
    "\n",
    "background.show()"
   ]
  },
  {
   "cell_type": "code",
   "execution_count": null,
   "metadata": {
    "collapsed": true
   },
   "outputs": [],
   "source": []
  },
  {
   "cell_type": "code",
   "execution_count": null,
   "metadata": {
    "collapsed": true
   },
   "outputs": [],
   "source": []
  }
 ],
 "metadata": {
  "kernelspec": {
   "display_name": "Python 3",
   "language": "python",
   "name": "python3"
  },
  "language_info": {
   "codemirror_mode": {
    "name": "ipython",
    "version": 3
   },
   "file_extension": ".py",
   "mimetype": "text/x-python",
   "name": "python",
   "nbconvert_exporter": "python",
   "pygments_lexer": "ipython3",
   "version": "3.6.1"
  }
 },
 "nbformat": 4,
 "nbformat_minor": 2
}
